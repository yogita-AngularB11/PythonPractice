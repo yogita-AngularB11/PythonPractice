{
  "nbformat": 4,
  "nbformat_minor": 0,
  "metadata": {
    "colab": {
      "provenance": [],
      "authorship_tag": "ABX9TyO8g+oJoEndtSq6rrqb2e7o",
      "include_colab_link": true
    },
    "kernelspec": {
      "name": "python3",
      "display_name": "Python 3"
    },
    "language_info": {
      "name": "python"
    }
  },
  "cells": [
    {
      "cell_type": "markdown",
      "metadata": {
        "id": "view-in-github",
        "colab_type": "text"
      },
      "source": [
        "<a href=\"https://colab.research.google.com/github/yogita-AngularB11/PythonPractice/blob/main/Day2.ipynb\" target=\"_parent\"><img src=\"https://colab.research.google.com/assets/colab-badge.svg\" alt=\"Open In Colab\"/></a>"
      ]
    },
    {
      "cell_type": "code",
      "execution_count": 1,
      "metadata": {
        "id": "Cl6Y5uxxmi0K"
      },
      "outputs": [],
      "source": [
        "virat=60\n",
        "rohit=30\n",
        "rahul=99"
      ]
    },
    {
      "cell_type": "code",
      "source": [
        "virat\n"
      ],
      "metadata": {
        "colab": {
          "base_uri": "https://localhost:8080/"
        },
        "id": "w0QHcd07tojm",
        "outputId": "6a3dc736-a027-460c-f7e8-0e0f1bd7f3d5"
      },
      "execution_count": 2,
      "outputs": [
        {
          "output_type": "execute_result",
          "data": {
            "text/plain": [
              "60"
            ]
          },
          "metadata": {},
          "execution_count": 2
        }
      ]
    },
    {
      "cell_type": "markdown",
      "source": [
        "You can assign multiple values in one line"
      ],
      "metadata": {
        "id": "WX4AE8wc2p0f"
      }
    },
    {
      "cell_type": "code",
      "source": [
        "x,y,z=10,20,30"
      ],
      "metadata": {
        "id": "-WhAU7mL2pFq"
      },
      "execution_count": 3,
      "outputs": []
    },
    {
      "cell_type": "code",
      "source": [
        "x"
      ],
      "metadata": {
        "colab": {
          "base_uri": "https://localhost:8080/"
        },
        "id": "Fqq6AUGD24j4",
        "outputId": "15a1167e-95d0-491a-d5cb-4ff9571ceed0"
      },
      "execution_count": 4,
      "outputs": [
        {
          "output_type": "execute_result",
          "data": {
            "text/plain": [
              "10"
            ]
          },
          "metadata": {},
          "execution_count": 4
        }
      ]
    }
  ]
}