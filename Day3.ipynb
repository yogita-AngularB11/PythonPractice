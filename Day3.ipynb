{
  "nbformat": 4,
  "nbformat_minor": 0,
  "metadata": {
    "colab": {
      "provenance": [],
      "authorship_tag": "ABX9TyNAB1QwkIP9eosQDnHzUreT",
      "include_colab_link": true
    },
    "kernelspec": {
      "name": "python3",
      "display_name": "Python 3"
    },
    "language_info": {
      "name": "python"
    }
  },
  "cells": [
    {
      "cell_type": "markdown",
      "metadata": {
        "id": "view-in-github",
        "colab_type": "text"
      },
      "source": [
        "<a href=\"https://colab.research.google.com/github/yogita-AngularB11/PythonPractice/blob/main/Day3.ipynb\" target=\"_parent\"><img src=\"https://colab.research.google.com/assets/colab-badge.svg\" alt=\"Open In Colab\"/></a>"
      ]
    },
    {
      "cell_type": "markdown",
      "source": [
        "marks>=90  A+ grade\n",
        "marks>=80  A grade\n",
        "marks>=70  B+ grade\n",
        "marks>=60  B grade\n"
      ],
      "metadata": {
        "id": "W9bDljs_93V4"
      }
    },
    {
      "cell_type": "code",
      "execution_count": 1,
      "metadata": {
        "colab": {
          "base_uri": "https://localhost:8080/"
        },
        "id": "TvhFPzTw9t4J",
        "outputId": "4544cbf4-7d30-4ee7-9bc4-3af79dd8385a"
      },
      "outputs": [
        {
          "output_type": "stream",
          "name": "stdout",
          "text": [
            "A Grade\n"
          ]
        }
      ],
      "source": [
        "marks=85\n",
        "if (marks>=90):\n",
        "  print(\"A+ Grade\")\n",
        "elif(marks>=80):\n",
        "  print(\"A Grade\")\n",
        "elif(marks>=70):\n",
        "  print(\"B+ Grade\")\n",
        "elif(marks>=60):\n",
        "  print(\"B Grade\")\n",
        "else:\n",
        "  print(\"Fail\")"
      ]
    },
    {
      "cell_type": "code",
      "source": [
        "num=int(input(\"Enter a number: \"))\n",
        "if(num%2==0):\n",
        "  print(\"Even\")\n",
        "else:\n",
        "  print(\"Odd\")"
      ],
      "metadata": {
        "colab": {
          "base_uri": "https://localhost:8080/"
        },
        "id": "Uwcakzo-AwyI",
        "outputId": "015711b7-0a1e-47d5-b80a-7903d726728f"
      },
      "execution_count": 2,
      "outputs": [
        {
          "output_type": "stream",
          "name": "stdout",
          "text": [
            "Enter a number: 17\n",
            "Odd\n"
          ]
        }
      ]
    },
    {
      "cell_type": "markdown",
      "source": [
        "Even or Odd: Write a program that takes an integer as input and prints whether it is even or odd."
      ],
      "metadata": {
        "id": "zGp_sarrBBvp"
      }
    },
    {
      "cell_type": "markdown",
      "metadata": {
        "id": "b646c330"
      },
      "source": [
        "Here are some if-else questions to practice:\n",
        "\n",
        "1.  **Even or Odd:** Write a program that takes an integer as input and prints whether it is even or odd.\n",
        "2.  **Positive, Negative, or Zero:** Write a program that takes a number as input and prints whether it is positive, negative, or zero.\n",
        "3.  **Largest of Two Numbers:** Write a program that takes two numbers as input and prints the larger of the two.\n",
        "4.  **Leap Year:** Write a program that takes a year as input and prints whether it is a leap year or not. (A leap year is divisible by 4, but not by 100 unless it is also divisible by 400).\n",
        "5.  **Grade System:** Modify the existing grade system code to include a \"C Grade\" for marks between 50 and 59, and a \"Fail\" for marks below 50."
      ]
    },
    {
      "cell_type": "markdown",
      "source": [
        "Leap Year: Write a program that takes a year as input and prints whether it is a leap year or not. (A leap year is divisible by 4, but not by 100 unless it is also divisible by 400)."
      ],
      "metadata": {
        "id": "VAUjO8LVBtLH"
      }
    },
    {
      "cell_type": "code",
      "source": [
        "birthyear=int(input(\"Enter your birth year: \"))\n",
        "if(birthyear%4==0 and birthyear%100!=0) or (birthyear%400==0):\n",
        "  print(\"Leap year\")\n",
        "else:\n",
        "  print(\"Not a leap year\")"
      ],
      "metadata": {
        "colab": {
          "base_uri": "https://localhost:8080/"
        },
        "id": "S8gxakHqBGbR",
        "outputId": "ecc09542-f259-4d9f-8080-625380457261"
      },
      "execution_count": 3,
      "outputs": [
        {
          "output_type": "stream",
          "name": "stdout",
          "text": [
            "Enter your birth year: 1988\n",
            "Leap year\n"
          ]
        }
      ]
    },
    {
      "cell_type": "markdown",
      "metadata": {
        "id": "403b0e91"
      },
      "source": [
        "Here are the solutions for the practice questions:"
      ]
    },
    {
      "cell_type": "markdown",
      "metadata": {
        "id": "8857cd79"
      },
      "source": [
        "**1. Even or Odd:**"
      ]
    },
    {
      "cell_type": "code",
      "metadata": {
        "id": "aa4a9c86"
      },
      "source": [
        "num = int(input(\"Enter an integer: \"))\n",
        "if num % 2 == 0:\n",
        "  print(\"Even\")\n",
        "else:\n",
        "  print(\"Odd\")"
      ],
      "execution_count": null,
      "outputs": []
    },
    {
      "cell_type": "markdown",
      "metadata": {
        "id": "1601419e"
      },
      "source": [
        "**2. Positive, Negative, or Zero:**"
      ]
    },
    {
      "cell_type": "code",
      "metadata": {
        "id": "8aa908d1"
      },
      "source": [
        "num = float(input(\"Enter a number: \"))\n",
        "if num > 0:\n",
        "  print(\"Positive\")\n",
        "elif num < 0:\n",
        "  print(\"Negative\")\n",
        "else:\n",
        "  print(\"Zero\")"
      ],
      "execution_count": null,
      "outputs": []
    },
    {
      "cell_type": "markdown",
      "metadata": {
        "id": "2f362876"
      },
      "source": [
        "**3. Largest of Two Numbers:**"
      ]
    },
    {
      "cell_type": "code",
      "metadata": {
        "id": "0b7513ec"
      },
      "source": [
        "num1 = float(input(\"Enter first number: \"))\n",
        "num2 = float(input(\"Enter second number: \"))\n",
        "if num1 > num2:\n",
        "  print(\"Largest:\", num1)\n",
        "else:\n",
        "  print(\"Largest:\", num2)"
      ],
      "execution_count": null,
      "outputs": []
    },
    {
      "cell_type": "markdown",
      "metadata": {
        "id": "57f20715"
      },
      "source": [
        "**4. Leap Year:**"
      ]
    },
    {
      "cell_type": "code",
      "metadata": {
        "id": "1c85d8c7"
      },
      "source": [
        "year = int(input(\"Enter a year: \"))\n",
        "if (year % 4 == 0 and year % 100 != 0) or (year % 400 == 0):\n",
        "  print(\"Leap year\")\n",
        "else:\n",
        "  print(\"Not a leap year\")"
      ],
      "execution_count": null,
      "outputs": []
    },
    {
      "cell_type": "markdown",
      "metadata": {
        "id": "49928db7"
      },
      "source": [
        "**5. Grade System:**"
      ]
    },
    {
      "cell_type": "code",
      "metadata": {
        "id": "ebe48b67"
      },
      "source": [
        "marks = int(input(\"Enter marks: \"))\n",
        "if marks >= 90:\n",
        "  print(\"A+ Grade\")\n",
        "elif marks >= 80:\n",
        "  print(\"A Grade\")\n",
        "elif marks >= 70:\n",
        "  print(\"B+ Grade\")\n",
        "elif marks >= 60:\n",
        "  print(\"B Grade\")\n",
        "elif marks >= 50:\n",
        "  print(\"C Grade\")\n",
        "else:\n",
        "  print(\"Fail\")"
      ],
      "execution_count": null,
      "outputs": []
    }
  ]
}