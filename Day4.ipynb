{
  "nbformat": 4,
  "nbformat_minor": 0,
  "metadata": {
    "colab": {
      "provenance": [],
      "authorship_tag": "ABX9TyNTQO9H/mZGvbxkrWLj2IaH",
      "include_colab_link": true
    },
    "kernelspec": {
      "name": "python3",
      "display_name": "Python 3"
    },
    "language_info": {
      "name": "python"
    }
  },
  "cells": [
    {
      "cell_type": "markdown",
      "metadata": {
        "id": "view-in-github",
        "colab_type": "text"
      },
      "source": [
        "<a href=\"https://colab.research.google.com/github/yogita-AngularB11/PythonPractice/blob/main/Day4.ipynb\" target=\"_parent\"><img src=\"https://colab.research.google.com/assets/colab-badge.svg\" alt=\"Open In Colab\"/></a>"
      ]
    },
    {
      "cell_type": "markdown",
      "source": [
        "For Loop"
      ],
      "metadata": {
        "id": "3INIL_aOLr6V"
      }
    },
    {
      "cell_type": "code",
      "execution_count": 4,
      "metadata": {
        "colab": {
          "base_uri": "https://localhost:8080/"
        },
        "id": "wDWMbh-SLKHa",
        "outputId": "c1874e8e-c1a4-469b-8f23-74bcff56999d"
      },
      "outputs": [
        {
          "output_type": "stream",
          "name": "stdout",
          "text": [
            "Divisible By 10 : 0\n",
            "Not Devisible By 10 : 1\n",
            "Not Devisible By 10 : 2\n",
            "Not Devisible By 10 : 3\n",
            "Not Devisible By 10 : 4\n",
            "Not Devisible By 10 : 5\n",
            "Not Devisible By 10 : 6\n",
            "Not Devisible By 10 : 7\n",
            "Not Devisible By 10 : 8\n",
            "Not Devisible By 10 : 9\n",
            "Divisible By 10 : 10\n",
            "Not Devisible By 10 : 11\n",
            "Not Devisible By 10 : 12\n",
            "Not Devisible By 10 : 13\n",
            "Not Devisible By 10 : 14\n",
            "Not Devisible By 10 : 15\n",
            "Not Devisible By 10 : 16\n",
            "Not Devisible By 10 : 17\n",
            "Not Devisible By 10 : 18\n",
            "Not Devisible By 10 : 19\n",
            "Divisible By 10 : 20\n",
            "Not Devisible By 10 : 21\n",
            "Not Devisible By 10 : 22\n",
            "Not Devisible By 10 : 23\n",
            "Not Devisible By 10 : 24\n",
            "Not Devisible By 10 : 25\n",
            "Not Devisible By 10 : 26\n",
            "Not Devisible By 10 : 27\n",
            "Not Devisible By 10 : 28\n",
            "Not Devisible By 10 : 29\n",
            "Divisible By 10 : 30\n",
            "Not Devisible By 10 : 31\n",
            "Not Devisible By 10 : 32\n",
            "Not Devisible By 10 : 33\n",
            "Not Devisible By 10 : 34\n",
            "Not Devisible By 10 : 35\n",
            "Not Devisible By 10 : 36\n",
            "Not Devisible By 10 : 37\n",
            "Not Devisible By 10 : 38\n",
            "Not Devisible By 10 : 39\n",
            "Divisible By 10 : 40\n",
            "Not Devisible By 10 : 41\n",
            "Not Devisible By 10 : 42\n",
            "Not Devisible By 10 : 43\n",
            "Not Devisible By 10 : 44\n",
            "Not Devisible By 10 : 45\n",
            "Not Devisible By 10 : 46\n",
            "Not Devisible By 10 : 47\n",
            "Not Devisible By 10 : 48\n",
            "Not Devisible By 10 : 49\n"
          ]
        }
      ],
      "source": [
        "for i in range (50):\n",
        "  if(i%10)==0:\n",
        "    print (\"Divisible By 10 :\",i)\n",
        "  else:\n",
        "    print(\"Not Devisible By 10 :\" ,i)"
      ]
    },
    {
      "cell_type": "markdown",
      "metadata": {
        "id": "020ed240"
      },
      "source": [
        "Here is an example of a `for` loop:"
      ]
    },
    {
      "cell_type": "code",
      "metadata": {
        "id": "433cf57a"
      },
      "source": [
        "# For loop example: Iterate over a list\n",
        "fruits = [\"apple\", \"banana\", \"cherry\"]\n",
        "for fruit in fruits:\n",
        "  print(fruit)"
      ],
      "execution_count": null,
      "outputs": []
    },
    {
      "cell_type": "markdown",
      "metadata": {
        "id": "445911c0"
      },
      "source": [
        "Here is an example of a `while` loop:"
      ]
    },
    {
      "cell_type": "code",
      "source": [
        "count=0\n",
        "while(count<5):\n",
        "  print(\"Count is less than 5\",count)\n",
        "  count=count+1"
      ],
      "metadata": {
        "colab": {
          "base_uri": "https://localhost:8080/"
        },
        "id": "84_ri0f6QR1i",
        "outputId": "c42233e9-24e6-499f-dfbf-857874b5621e"
      },
      "execution_count": 7,
      "outputs": [
        {
          "output_type": "stream",
          "name": "stdout",
          "text": [
            "Count is less than 5 0\n",
            "Count is less than 5 1\n",
            "Count is less than 5 2\n",
            "Count is less than 5 3\n",
            "Count is less than 5 4\n"
          ]
        }
      ]
    }
  ]
}