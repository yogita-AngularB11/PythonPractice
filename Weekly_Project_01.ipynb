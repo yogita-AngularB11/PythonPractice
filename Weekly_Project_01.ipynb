{
  "nbformat": 4,
  "nbformat_minor": 0,
  "metadata": {
    "colab": {
      "provenance": [],
      "authorship_tag": "ABX9TyNJz0QL9PrgAgy0J2wV5atV",
      "include_colab_link": true
    },
    "kernelspec": {
      "name": "python3",
      "display_name": "Python 3"
    },
    "language_info": {
      "name": "python"
    }
  },
  "cells": [
    {
      "cell_type": "markdown",
      "metadata": {
        "id": "view-in-github",
        "colab_type": "text"
      },
      "source": [
        "<a href=\"https://colab.research.google.com/github/yogita-AngularB11/PythonPractice/blob/main/Weekly_Project_01.ipynb\" target=\"_parent\"><img src=\"https://colab.research.google.com/assets/colab-badge.svg\" alt=\"Open In Colab\"/></a>"
      ]
    },
    {
      "cell_type": "code",
      "execution_count": 2,
      "metadata": {
        "colab": {
          "base_uri": "https://localhost:8080/"
        },
        "id": "alnKzAQPe9lI",
        "outputId": "93b9e7ba-7d2e-440b-f9b6-1be14015380c"
      },
      "outputs": [
        {
          "output_type": "stream",
          "name": "stdout",
          "text": [
            "Initial tasks:\n",
            "['Finish writing report', 'Prepare presentation slides', 'Attend team meeting', 'Review project proposal', 'Send follow-up emails']\n",
            "Completed tasks are :\n",
            "['Finish writing report', 'Attend team meeting']\n",
            "Tasks needs attention :\n",
            "['Prepare presentation slides', 'Review project proposal', 'Send follow-up emails']\n"
          ]
        }
      ],
      "source": [
        "tasks=[\"Finish writing report\",\n",
        "    \"Prepare presentation slides\",\n",
        "    \"Attend team meeting\",\n",
        "    \"Review project proposal\",\n",
        "    \"Send follow-up emails\"]\n",
        "incomplete_tasks=[]\n",
        "completed_tasks=[]\n",
        "print(\"Initial tasks:\")\n",
        "print(tasks)\n",
        "completed_today=[\"Finish writing report\", \"Attend team meeting\"]\n",
        "for task in tasks:\n",
        "  if task in completed_today:\n",
        "    completed_tasks.append(task)\n",
        "  else:\n",
        "    incomplete_tasks.append(task)\n",
        "print(\"Completed tasks are :\")\n",
        "print(completed_tasks)\n",
        "print(\"Tasks needs attention :\")\n",
        "print(incomplete_tasks)"
      ]
    },
    {
      "cell_type": "code",
      "metadata": {
        "colab": {
          "base_uri": "https://localhost:8080/"
        },
        "id": "3a5a9a3a",
        "outputId": "5b2e5d08-dee4-4530-a315-3e530821042d"
      },
      "source": [
        "tasks = [\n",
        "    \"Finish writing report\",\n",
        "    \"Prepare presentation slides\",\n",
        "    \"Attend team meeting\",\n",
        "    \"Review project proposal\",\n",
        "    \"Send follow-up emails\"\n",
        "]\n",
        "print(\"Initial tasks:\")\n",
        "print(tasks)"
      ],
      "execution_count": 1,
      "outputs": [
        {
          "output_type": "stream",
          "name": "stdout",
          "text": [
            "Initial tasks:\n",
            "['Finish writing report', 'Prepare presentation slides', 'Attend team meeting', 'Review project proposal', 'Send follow-up emails']\n"
          ]
        }
      ]
    },
    {
      "cell_type": "code",
      "metadata": {
        "id": "71de16ee"
      },
      "source": [
        "# Simulate which tasks are completed at the end of the day\n",
        "# In a real application, this might be user input\n",
        "completed_today = [\"Finish writing report\", \"Attend team meeting\"]\n",
        "\n",
        "# Move tasks to completed_tasks or incomplete_tasks\n",
        "for task in tasks:\n",
        "    if task in completed_today:\n",
        "        completed_tasks.append(task)\n",
        "    else:\n",
        "        incomplete_tasks.append(task)\n",
        "\n",
        "# Clear the initial tasks list as they have been categorized\n",
        "tasks = []\n",
        "\n",
        "print(\"Completed tasks:\")\n",
        "print(completed_tasks)\n",
        "print(\"\\nIncomplete tasks:\")\n",
        "print(incomplete_tasks)\n",
        "print(\"\\nRemaining tasks in the initial list:\")\n",
        "print(tasks)"
      ],
      "execution_count": null,
      "outputs": []
    }
  ]
}